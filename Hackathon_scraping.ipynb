{
 "cells": [
  {
   "cell_type": "code",
   "execution_count": 140,
   "metadata": {},
   "outputs": [],
   "source": [
    "from selenium import webdriver\n",
    "from selenium.webdriver.common.by import By\n",
    "from selenium.webdriver.support.ui import WebDriverWait\n",
    "from selenium.webdriver.support import expected_conditions as EC\n",
    "from time import sleep\n",
    "import pandas as pd\n",
    "import time"
   ]
  },
  {
   "cell_type": "code",
   "execution_count": 240,
   "metadata": {},
   "outputs": [],
   "source": [
    "driver = webdriver.Chrome()\n",
    "driver.get(\"https://www.ubs.com/global/fr/careers/search-jobs/faq.html\")\n",
    "driver.find_element(By.XPATH, '//*[@id=\"lightbox-main-lightbox\"]/div/div/div[2]/div/div/div/div[2]/div/div/div/fieldset/div[2]/button[7]').click()\n",
    "#1 driver.find_element(By.XPATH, '//*[@id=\"accordionsplit_1185641261_1560159503984\"]').click()\n",
    "#2 driver.find_element(By.CLASS_NAME, 'accordion__arrowIcon').click()\n",
    "\n",
    "subfiles = driver.find_elements(By.CLASS_NAME, 'accordion__arrowIcon')\n",
    "\n",
    "for subfile in subfiles:\n",
    "    subfile.click()\n",
    "    time.sleep(1)\n",
    "\n",
    "questions = [question.text for question in driver.find_elements(By.XPATH, '//*[@id=\"accordionsplit_1185641261_1560159503984\"]')]\n",
    "answers = [answer.text for answer in driver.find_elements(By.XPATH, '//*[@id=\"textimage-1099319773\"]/div/p')]\n",
    "listquest = driver.find_elements(By.CLASS_NAME,\"accordion__hl\")\n",
    "#listans = driver.find_elements(By.XPATH,\"/html/body/div[1]/main/div/div/div/div[2]/div/div/div/div[2]/div/div/div[4]/div/div/div[1]/div/div/p/text()\")\n",
    "#listans = driver.find_elements(By.CLASS_NAME,\"textimage__richtext richtext__base\")\n",
    "#listans = driver.find_elements(By.CLASS_NAME,\"highlighting__base highlighting__base--default \")\n",
    "#listans = driver.find_elements(By.XPATH,\"/html/body/div[1]/main/div/div/div/div[2]/div/div/div/div[2]/div/div/div[1]/div/div/div[1]/div\")\n",
    "#listans = driver.find_elements(By.CLASS_NAME,\"basecomponent basecomponent__base textimage textimage__base textimagegridcontext__context--extra-narrow textimage__context textimage__context--extra-narrow\")\n",
    "#listans = driver.find_elements(By.XPATH,\"/html/body/div[1]/main/div/div/div/div[2]/div/div/div/div[2]/div/div/div[1]/div/div/div[1]\")\n",
    "#listans = driver.find_elements(By.CLASS_NAME,\"accordion__content\")\n",
    "#listans = driver.find_elements(By.CLASS_NAME,\"accordion__contentWrapper verticalshrink__base verticalshrink__base--transition verticalshrink__base--expanded\")\n",
    "#listans = driver.find_elements(By.XPATH,\"/html/body/div[1]/main/div/div/div/div[2]/div/div/div/div[2]/div/div/div[1]/div\")\n",
    "#listans = driver.find_elements(By.CLASS_NAME,\"accordion__section accordion__section--expanded\")\n",
    "listans = driver.find_elements(By.CLASS_NAME,\"accordion__sections\")"
   ]
  },
  {
   "cell_type": "code",
   "execution_count": 225,
   "metadata": {},
   "outputs": [
    {
     "data": {
      "text/plain": [
       "['', '']"
      ]
     },
     "execution_count": 225,
     "metadata": {},
     "output_type": "execute_result"
    }
   ],
   "source": [
    "answers"
   ]
  },
  {
   "cell_type": "code",
   "execution_count": 230,
   "metadata": {},
   "outputs": [
    {
     "ename": "JavascriptException",
     "evalue": "Message: javascript error: {\"status\":32,\"value\":\"The result of the xpath expression \\\"/html/body/div[1]/main/div/div/div/div[2]/div/div/div/div[2]/div/div/div[4]/div/div/div[1]/div/div/p/text()\\\" is: [object Text]. It should be an element.\"}\n  (Session info: chrome=124.0.6367.78)\nStacktrace:\n0   chromedriver                        0x000000010310e8dc chromedriver + 4368604\n1   chromedriver                        0x0000000103106d70 chromedriver + 4337008\n2   chromedriver                        0x0000000102d2ac04 chromedriver + 289796\n3   chromedriver                        0x0000000102d2f5d4 chromedriver + 308692\n4   chromedriver                        0x0000000102d30f30 chromedriver + 315184\n5   chromedriver                        0x0000000102d30fa8 chromedriver + 315304\n6   chromedriver                        0x0000000102d6cefc chromedriver + 560892\n7   chromedriver                        0x0000000102da55ec chromedriver + 792044\n8   chromedriver                        0x0000000102d61ab4 chromedriver + 514740\n9   chromedriver                        0x0000000102d6250c chromedriver + 517388\n10  chromedriver                        0x00000001030d2df8 chromedriver + 4124152\n11  chromedriver                        0x00000001030d7be8 chromedriver + 4144104\n12  chromedriver                        0x00000001030b87c0 chromedriver + 4016064\n13  chromedriver                        0x00000001030d8518 chromedriver + 4146456\n14  chromedriver                        0x00000001030aa274 chromedriver + 3957364\n15  chromedriver                        0x00000001030f7e60 chromedriver + 4275808\n16  chromedriver                        0x00000001030f7fdc chromedriver + 4276188\n17  chromedriver                        0x00000001031069d0 chromedriver + 4336080\n18  libsystem_pthread.dylib             0x00000001abaa7fa8 _pthread_start + 148\n19  libsystem_pthread.dylib             0x00000001abaa2da0 thread_start + 8\n",
     "output_type": "error",
     "traceback": [
      "\u001b[0;31m---------------------------------------------------------------------------\u001b[0m",
      "\u001b[0;31mJavascriptException\u001b[0m                       Traceback (most recent call last)",
      "\u001b[1;32m/Users/thomaslebourdon/Hackathon_scraping.ipynb Cell 4\u001b[0m line \u001b[0;36m2\n\u001b[1;32m      <a href='vscode-notebook-cell:/Users/thomaslebourdon/Hackathon_scraping.ipynb#X43sZmlsZQ%3D%3D?line=0'>1</a>\u001b[0m listquest \u001b[39m=\u001b[39m driver\u001b[39m.\u001b[39mfind_elements(By\u001b[39m.\u001b[39mCLASS_NAME,\u001b[39m\"\u001b[39m\u001b[39maccordion__hl\u001b[39m\u001b[39m\"\u001b[39m)\n\u001b[0;32m----> <a href='vscode-notebook-cell:/Users/thomaslebourdon/Hackathon_scraping.ipynb#X43sZmlsZQ%3D%3D?line=1'>2</a>\u001b[0m listans \u001b[39m=\u001b[39m driver\u001b[39m.\u001b[39;49mfind_elements(By\u001b[39m.\u001b[39;49mXPATH,\u001b[39m\"\u001b[39;49m\u001b[39m/html/body/div[1]/main/div/div/div/div[2]/div/div/div/div[2]/div/div/div[4]/div/div/div[1]/div/div/p/text()\u001b[39;49m\u001b[39m\"\u001b[39;49m)\n",
      "File \u001b[0;32m/Library/Frameworks/Python.framework/Versions/3.12/lib/python3.12/site-packages/selenium/webdriver/remote/webdriver.py:771\u001b[0m, in \u001b[0;36mWebDriver.find_elements\u001b[0;34m(self, by, value)\u001b[0m\n\u001b[1;32m    767\u001b[0m     value \u001b[39m=\u001b[39m \u001b[39mf\u001b[39m\u001b[39m'\u001b[39m\u001b[39m[name=\u001b[39m\u001b[39m\"\u001b[39m\u001b[39m{\u001b[39;00mvalue\u001b[39m}\u001b[39;00m\u001b[39m\"\u001b[39m\u001b[39m]\u001b[39m\u001b[39m'\u001b[39m\n\u001b[1;32m    769\u001b[0m \u001b[39m# Return empty list if driver returns null\u001b[39;00m\n\u001b[1;32m    770\u001b[0m \u001b[39m# See https://github.com/SeleniumHQ/selenium/issues/4555\u001b[39;00m\n\u001b[0;32m--> 771\u001b[0m \u001b[39mreturn\u001b[39;00m \u001b[39mself\u001b[39;49m\u001b[39m.\u001b[39;49mexecute(Command\u001b[39m.\u001b[39;49mFIND_ELEMENTS, {\u001b[39m\"\u001b[39;49m\u001b[39musing\u001b[39;49m\u001b[39m\"\u001b[39;49m: by, \u001b[39m\"\u001b[39;49m\u001b[39mvalue\u001b[39;49m\u001b[39m\"\u001b[39;49m: value})[\u001b[39m\"\u001b[39m\u001b[39mvalue\u001b[39m\u001b[39m\"\u001b[39m] \u001b[39mor\u001b[39;00m []\n",
      "File \u001b[0;32m/Library/Frameworks/Python.framework/Versions/3.12/lib/python3.12/site-packages/selenium/webdriver/remote/webdriver.py:347\u001b[0m, in \u001b[0;36mWebDriver.execute\u001b[0;34m(self, driver_command, params)\u001b[0m\n\u001b[1;32m    345\u001b[0m response \u001b[39m=\u001b[39m \u001b[39mself\u001b[39m\u001b[39m.\u001b[39mcommand_executor\u001b[39m.\u001b[39mexecute(driver_command, params)\n\u001b[1;32m    346\u001b[0m \u001b[39mif\u001b[39;00m response:\n\u001b[0;32m--> 347\u001b[0m     \u001b[39mself\u001b[39;49m\u001b[39m.\u001b[39;49merror_handler\u001b[39m.\u001b[39;49mcheck_response(response)\n\u001b[1;32m    348\u001b[0m     response[\u001b[39m\"\u001b[39m\u001b[39mvalue\u001b[39m\u001b[39m\"\u001b[39m] \u001b[39m=\u001b[39m \u001b[39mself\u001b[39m\u001b[39m.\u001b[39m_unwrap_value(response\u001b[39m.\u001b[39mget(\u001b[39m\"\u001b[39m\u001b[39mvalue\u001b[39m\u001b[39m\"\u001b[39m, \u001b[39mNone\u001b[39;00m))\n\u001b[1;32m    349\u001b[0m     \u001b[39mreturn\u001b[39;00m response\n",
      "File \u001b[0;32m/Library/Frameworks/Python.framework/Versions/3.12/lib/python3.12/site-packages/selenium/webdriver/remote/errorhandler.py:229\u001b[0m, in \u001b[0;36mErrorHandler.check_response\u001b[0;34m(self, response)\u001b[0m\n\u001b[1;32m    227\u001b[0m         alert_text \u001b[39m=\u001b[39m value[\u001b[39m\"\u001b[39m\u001b[39malert\u001b[39m\u001b[39m\"\u001b[39m]\u001b[39m.\u001b[39mget(\u001b[39m\"\u001b[39m\u001b[39mtext\u001b[39m\u001b[39m\"\u001b[39m)\n\u001b[1;32m    228\u001b[0m     \u001b[39mraise\u001b[39;00m exception_class(message, screen, stacktrace, alert_text)  \u001b[39m# type: ignore[call-arg]  # mypy is not smart enough here\u001b[39;00m\n\u001b[0;32m--> 229\u001b[0m \u001b[39mraise\u001b[39;00m exception_class(message, screen, stacktrace)\n",
      "\u001b[0;31mJavascriptException\u001b[0m: Message: javascript error: {\"status\":32,\"value\":\"The result of the xpath expression \\\"/html/body/div[1]/main/div/div/div/div[2]/div/div/div/div[2]/div/div/div[4]/div/div/div[1]/div/div/p/text()\\\" is: [object Text]. It should be an element.\"}\n  (Session info: chrome=124.0.6367.78)\nStacktrace:\n0   chromedriver                        0x000000010310e8dc chromedriver + 4368604\n1   chromedriver                        0x0000000103106d70 chromedriver + 4337008\n2   chromedriver                        0x0000000102d2ac04 chromedriver + 289796\n3   chromedriver                        0x0000000102d2f5d4 chromedriver + 308692\n4   chromedriver                        0x0000000102d30f30 chromedriver + 315184\n5   chromedriver                        0x0000000102d30fa8 chromedriver + 315304\n6   chromedriver                        0x0000000102d6cefc chromedriver + 560892\n7   chromedriver                        0x0000000102da55ec chromedriver + 792044\n8   chromedriver                        0x0000000102d61ab4 chromedriver + 514740\n9   chromedriver                        0x0000000102d6250c chromedriver + 517388\n10  chromedriver                        0x00000001030d2df8 chromedriver + 4124152\n11  chromedriver                        0x00000001030d7be8 chromedriver + 4144104\n12  chromedriver                        0x00000001030b87c0 chromedriver + 4016064\n13  chromedriver                        0x00000001030d8518 chromedriver + 4146456\n14  chromedriver                        0x00000001030aa274 chromedriver + 3957364\n15  chromedriver                        0x00000001030f7e60 chromedriver + 4275808\n16  chromedriver                        0x00000001030f7fdc chromedriver + 4276188\n17  chromedriver                        0x00000001031069d0 chromedriver + 4336080\n18  libsystem_pthread.dylib             0x00000001abaa7fa8 _pthread_start + 148\n19  libsystem_pthread.dylib             0x00000001abaa2da0 thread_start + 8\n"
     ]
    }
   ],
   "source": [
    "listquest = driver.find_elements(By.CLASS_NAME,\"accordion__hl\")\n",
    "listans = driver.find_elements(By.XPATH,\"/html/body/div[1]/main/div/div/div/div[2]/div/div/div/div[2]/div/div/div[4]/div/div/div[1]/div/div/p/text()\")"
   ]
  },
  {
   "cell_type": "code",
   "execution_count": 241,
   "metadata": {},
   "outputs": [
    {
     "data": {
      "text/plain": [
       "[<selenium.webdriver.remote.webelement.WebElement (session=\"3a0883fb602a171e06bf9d7eb2a3c046\", element=\"f.2DC6DF5A09AF23EBAC46EADEB507D4C4.d.1EC70DF2B5F8A1CEBFD89E843177122E.e.112\")>]"
      ]
     },
     "execution_count": 241,
     "metadata": {},
     "output_type": "execute_result"
    }
   ],
   "source": [
    "listans"
   ]
  },
  {
   "cell_type": "code",
   "execution_count": 242,
   "metadata": {},
   "outputs": [
    {
     "name": "stdout",
     "output_type": "stream",
     "text": [
      "Pourquoi ne puis-je pas visualiser mon expérience professionnelle, mes formations ainsi que mon CV que j'ai téléchargés sur mon profil ?\n",
      "Pour combien d'offres d'emploi puis-je postuler par mois?\n",
      "Mon compte est bloqué (ou fait face à d'autres problèmes techniques)\n",
      "J'ai oublié mon mot de passe ou nom d'utilisateur\n",
      "\n",
      "Comment puis-je télécharger un CV plus récent?\n",
      "Comment puis-je effectuer des changements dans mon profil?\n",
      "Quel est l’état de ma candidature?\n",
      "Comment définir une alerte emploi?\n",
      "Il m’a été demandé de remplir un questionnaire culturel, de quoi s’agit-il?\n",
      "\n",
      "Quels sont nos rangs ?\n",
      "Comment puis-je contacter les équipes chargées du recrutement des étudiants et des diplômés?\n",
      "Vous avez une question sur un autre sujet?\n",
      "Professionnels\n",
      "Étudiants (EN)\n"
     ]
    }
   ],
   "source": [
    "a=[]\n",
    "for x in listans:\n",
    "    print(x.text)\n",
    "    a.append(x.text)"
   ]
  },
  {
   "cell_type": "code",
   "execution_count": 243,
   "metadata": {},
   "outputs": [
    {
     "data": {
      "text/plain": [
       "[\"Pourquoi ne puis-je pas visualiser mon expérience professionnelle, mes formations ainsi que mon CV que j'ai téléchargés sur mon profil ?\\nPour combien d'offres d'emploi puis-je postuler par mois?\\nMon compte est bloqué (ou fait face à d'autres problèmes techniques)\\nJ'ai oublié mon mot de passe ou nom d'utilisateur\\n\\nComment puis-je télécharger un CV plus récent?\\nComment puis-je effectuer des changements dans mon profil?\\nQuel est l’état de ma candidature?\\nComment définir une alerte emploi?\\nIl m’a été demandé de remplir un questionnaire culturel, de quoi s’agit-il?\\n\\nQuels sont nos rangs ?\\nComment puis-je contacter les équipes chargées du recrutement des étudiants et des diplômés?\\nVous avez une question sur un autre sujet?\\nProfessionnels\\nÉtudiants (EN)\"]"
      ]
     },
     "execution_count": 243,
     "metadata": {},
     "output_type": "execute_result"
    }
   ],
   "source": [
    "a"
   ]
  },
  {
   "cell_type": "code",
   "execution_count": 237,
   "metadata": {},
   "outputs": [
    {
     "ename": "IndexError",
     "evalue": "list index out of range",
     "output_type": "error",
     "traceback": [
      "\u001b[0;31m---------------------------------------------------------------------------\u001b[0m",
      "\u001b[0;31mIndexError\u001b[0m                                Traceback (most recent call last)",
      "\u001b[1;32m/Users/thomaslebourdon/Hackathon_scraping.ipynb Cell 8\u001b[0m line \u001b[0;36m1\n\u001b[0;32m----> <a href='vscode-notebook-cell:/Users/thomaslebourdon/Hackathon_scraping.ipynb#X41sZmlsZQ%3D%3D?line=0'>1</a>\u001b[0m listans[\u001b[39m0\u001b[39;49m]\u001b[39m.\u001b[39mtext\n",
      "\u001b[0;31mIndexError\u001b[0m: list index out of range"
     ]
    }
   ],
   "source": [
    "listans[0].text"
   ]
  },
  {
   "cell_type": "code",
   "execution_count": 238,
   "metadata": {},
   "outputs": [],
   "source": [
    "a=[]\n",
    "for x in listans:\n",
    "    print(x.text)\n",
    "    a.append(x.text)"
   ]
  },
  {
   "cell_type": "code",
   "execution_count": 239,
   "metadata": {},
   "outputs": [
    {
     "data": {
      "text/plain": [
       "[]"
      ]
     },
     "execution_count": 239,
     "metadata": {},
     "output_type": "execute_result"
    }
   ],
   "source": [
    "a"
   ]
  },
  {
   "cell_type": "code",
   "execution_count": 126,
   "metadata": {},
   "outputs": [
    {
     "name": "stdout",
     "output_type": "stream",
     "text": [
      "\n",
      "            Pourquoi ne puis-je pas visualiser mon expérience professionnelle, mes formations ainsi que mon CV que j'ai téléchargés sur mon profil ?\n",
      "        \n",
      "\n",
      "            Pour combien d'offres d'emploi puis-je postuler par mois?\n",
      "        \n",
      "\n",
      "            Mon compte est bloqué (ou fait face à d'autres problèmes techniques)\n",
      "        \n",
      "\n",
      "            J'ai oublié mon mot de passe ou nom d'utilisateur\n",
      "        \n",
      "\n",
      "            Comment puis-je télécharger un CV plus récent?\n",
      "        \n",
      "\n",
      "            Comment puis-je effectuer des changements dans mon profil?\n",
      "        \n",
      "\n",
      "            Quel est l’état de ma candidature?\n",
      "        \n",
      "\n",
      "            Comment définir une alerte emploi?\n",
      "        \n",
      "\n",
      "            Il m’a été demandé de remplir un questionnaire culturel, de quoi s’agit-il?\n",
      "        \n",
      "\n",
      "            Quels sont nos rangs ?\n",
      "        \n",
      "\n",
      "            Comment puis-je contacter les équipes chargées du recrutement des étudiants et des diplômés?\n",
      "        \n",
      "\n",
      "            Vous avez une question sur un autre sujet?\n",
      "        \n"
     ]
    }
   ],
   "source": [
    "q=[]\n",
    "for x in listquest:\n",
    "    print(x.text)\n",
    "    q.append(x.text)\n"
   ]
  },
  {
   "cell_type": "code",
   "execution_count": 9,
   "metadata": {},
   "outputs": [
    {
     "data": {
      "text/plain": [
       "[\"\\n            Pourquoi ne puis-je pas visualiser mon expérience professionnelle, mes formations ainsi que mon CV que j'ai téléchargés sur mon profil ?\\n        \",\n",
       " \"\\n            Pour combien d'offres d'emploi puis-je postuler par mois?\\n        \",\n",
       " \"\\n            Mon compte est bloqué (ou fait face à d'autres problèmes techniques)\\n        \",\n",
       " \"\\n            J'ai oublié mon mot de passe ou nom d'utilisateur\\n        \",\n",
       " '\\n            Comment puis-je télécharger un CV plus récent?\\n        ',\n",
       " '\\n            Comment puis-je effectuer des changements dans mon profil?\\n        ',\n",
       " '\\n            Quel est l’état de ma candidature?\\n        ',\n",
       " '\\n            Comment définir une alerte emploi?\\n        ',\n",
       " '\\n            Il m’a été demandé de remplir un questionnaire culturel, de quoi s’agit-il?\\n        ',\n",
       " '\\n            Quels sont nos rangs ?\\n        ',\n",
       " '\\n            Comment puis-je contacter les équipes chargées du recrutement des étudiants et des diplômés?\\n        ',\n",
       " '\\n            Vous avez une question sur un autre sujet?\\n        ']"
      ]
     },
     "execution_count": 9,
     "metadata": {},
     "output_type": "execute_result"
    }
   ],
   "source": [
    "q"
   ]
  },
  {
   "cell_type": "code",
   "execution_count": null,
   "metadata": {},
   "outputs": [],
   "source": [
    "df = pd.DataFrame(list(zip(q, answers)), columns =['Questions', 'Answers'])"
   ]
  },
  {
   "cell_type": "code",
   "execution_count": null,
   "metadata": {},
   "outputs": [],
   "source": [
    "df"
   ]
  },
  {
   "cell_type": "code",
   "execution_count": null,
   "metadata": {},
   "outputs": [],
   "source": [
    "type(element)"
   ]
  },
  {
   "cell_type": "code",
   "execution_count": null,
   "metadata": {},
   "outputs": [],
   "source": [
    "df = df.replace('\\n','', regex=True)"
   ]
  },
  {
   "cell_type": "code",
   "execution_count": null,
   "metadata": {},
   "outputs": [],
   "source": [
    "df"
   ]
  },
  {
   "cell_type": "code",
   "execution_count": null,
   "metadata": {},
   "outputs": [],
   "source": [
    "pd.set_option('display.max_columns', None) \n",
    "pd.set_option('display.expand_frame_repr', False)  \n",
    "pd.set_option('display.max_colwidth', None)  \n",
    "print(df)"
   ]
  },
  {
   "cell_type": "code",
   "execution_count": null,
   "metadata": {},
   "outputs": [],
   "source": []
  },
  {
   "cell_type": "code",
   "execution_count": null,
   "metadata": {},
   "outputs": [],
   "source": []
  },
  {
   "cell_type": "code",
   "execution_count": null,
   "metadata": {},
   "outputs": [],
   "source": []
  },
  {
   "cell_type": "code",
   "execution_count": null,
   "metadata": {},
   "outputs": [],
   "source": []
  }
 ],
 "metadata": {
  "kernelspec": {
   "display_name": "Python 3",
   "language": "python",
   "name": "python3"
  },
  "language_info": {
   "codemirror_mode": {
    "name": "ipython",
    "version": 3
   },
   "file_extension": ".py",
   "mimetype": "text/x-python",
   "name": "python",
   "nbconvert_exporter": "python",
   "pygments_lexer": "ipython3",
   "version": "3.12.0"
  }
 },
 "nbformat": 4,
 "nbformat_minor": 2
}
